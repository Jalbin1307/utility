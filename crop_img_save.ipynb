{
 "cells": [
  {
   "cell_type": "code",
   "execution_count": 64,
   "id": "7df37302",
   "metadata": {},
   "outputs": [],
   "source": [
    "import numpy as np\n",
    "import matplotlib.pyplot as plt\n",
    "from PIL import Image\n",
    "import os\n",
    "import torch\n",
    "import torchvision.transforms as transforms\n",
    "\n",
    "os.environ['KMP_DUPLICATE_LIB_OK']='True' "
   ]
  },
  {
   "cell_type": "code",
   "execution_count": 65,
   "id": "c3354a58",
   "metadata": {},
   "outputs": [],
   "source": [
    "bbox = []\n",
    "with open('./annotation/1.txt','r') as f:\n",
    "    while True:\n",
    "        line = f.readline()\n",
    "        if not line: break\n",
    "        box = list(map(float,line.split(' ')))\n",
    "        bbox.append(box)\n",
    "        N = len(bbox)"
   ]
  },
  {
   "cell_type": "code",
   "execution_count": 66,
   "id": "4adc95ce",
   "metadata": {},
   "outputs": [],
   "source": [
    "img = Image.open('./image/1.jpg')\n",
    "img_w, img_h = img.size"
   ]
  },
  {
   "cell_type": "code",
   "execution_count": 67,
   "id": "b1c36d53",
   "metadata": {},
   "outputs": [],
   "source": [
    "a = torch.tensor(bbox)\n",
    "xywh = a[...,1:]\n",
    "xywh[...,[0,2]] *= img_w\n",
    "xywh[...,[1,3]] *= img_h\n",
    "x, y, w, h = xywh[...,0], xywh[...,1], xywh[...,2], xywh[...,3]"
   ]
  },
  {
   "cell_type": "code",
   "execution_count": 68,
   "id": "bebaaa52",
   "metadata": {},
   "outputs": [],
   "source": [
    "lx, ly, rx, ry = x - w / 2, y - h / 2, x + w / 2, y + h / 2 \n",
    "lx, ly, rx, ry = lx.int(), ly.int(), rx.int(), ry.int()"
   ]
  },
  {
   "cell_type": "code",
   "execution_count": 69,
   "id": "68059a4b",
   "metadata": {},
   "outputs": [
    {
     "name": "stdout",
     "output_type": "stream",
     "text": [
      "torch.Size([431, 450, 3])\n",
      "1\n"
     ]
    }
   ],
   "source": [
    "tf = transforms.ToTensor()\n",
    "img_t = tf(img)\n",
    "img_t = img_t.permute(1,2,0)\n",
    "print(img_t.shape)\n",
    "print(N)"
   ]
  },
  {
   "cell_type": "code",
   "execution_count": 70,
   "id": "4ee21d89",
   "metadata": {},
   "outputs": [],
   "source": [
    "for i in range(N):\n",
    "    cropped_img = img_t[ly[i]:ry[i]+1, lx[i]:rx[i]+1, :]\n",
    "    im = np.array(cropped_img)\n",
    "    pil_image = Image.fromarray((im * 255).astype(np.uint8)).convert('RGB')\n",
    "    pil_image.save('test.jpg')"
   ]
  },
  {
   "cell_type": "code",
   "execution_count": null,
   "id": "cca52020",
   "metadata": {},
   "outputs": [],
   "source": []
  }
 ],
 "metadata": {
  "kernelspec": {
   "display_name": "Python 3 (ipykernel)",
   "language": "python",
   "name": "python3"
  },
  "language_info": {
   "codemirror_mode": {
    "name": "ipython",
    "version": 3
   },
   "file_extension": ".py",
   "mimetype": "text/x-python",
   "name": "python",
   "nbconvert_exporter": "python",
   "pygments_lexer": "ipython3",
   "version": "3.9.7"
  }
 },
 "nbformat": 4,
 "nbformat_minor": 5
}
